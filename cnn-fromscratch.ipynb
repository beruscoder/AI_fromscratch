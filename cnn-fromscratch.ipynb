{
 "cells": [
  {
   "cell_type": "code",
   "execution_count": 1,
   "id": "97dcb3e4",
   "metadata": {
    "_cell_guid": "b1076dfc-b9ad-4769-8c92-a6c4dae69d19",
    "_uuid": "8f2839f25d086af736a60e9eeb907d3b93b6e0e5",
    "execution": {
     "iopub.execute_input": "2025-05-27T17:05:21.507154Z",
     "iopub.status.busy": "2025-05-27T17:05:21.506947Z",
     "iopub.status.idle": "2025-05-27T17:05:23.032841Z",
     "shell.execute_reply": "2025-05-27T17:05:23.032108Z"
    },
    "papermill": {
     "duration": 1.530912,
     "end_time": "2025-05-27T17:05:23.034327",
     "exception": false,
     "start_time": "2025-05-27T17:05:21.503415",
     "status": "completed"
    },
    "tags": []
   },
   "outputs": [],
   "source": [
    "import numpy as np \n",
    "from matplotlib import pyplot as plt\n",
    "import pandas as pd"
   ]
  },
  {
   "cell_type": "code",
   "execution_count": 2,
   "id": "9a150b16",
   "metadata": {
    "execution": {
     "iopub.execute_input": "2025-05-27T17:05:23.040397Z",
     "iopub.status.busy": "2025-05-27T17:05:23.040060Z",
     "iopub.status.idle": "2025-05-27T17:05:25.751895Z",
     "shell.execute_reply": "2025-05-27T17:05:25.750955Z"
    },
    "papermill": {
     "duration": 2.716357,
     "end_time": "2025-05-27T17:05:25.753416",
     "exception": false,
     "start_time": "2025-05-27T17:05:23.037059",
     "status": "completed"
    },
    "tags": []
   },
   "outputs": [],
   "source": [
    "data  = pd.read_csv(\"/kaggle/input/digit-recognizer/train.csv\")"
   ]
  },
  {
   "cell_type": "code",
   "execution_count": 3,
   "id": "d68a2648",
   "metadata": {
    "execution": {
     "iopub.execute_input": "2025-05-27T17:05:25.759836Z",
     "iopub.status.busy": "2025-05-27T17:05:25.758968Z",
     "iopub.status.idle": "2025-05-27T17:05:25.783659Z",
     "shell.execute_reply": "2025-05-27T17:05:25.782946Z"
    },
    "papermill": {
     "duration": 0.029028,
     "end_time": "2025-05-27T17:05:25.784967",
     "exception": false,
     "start_time": "2025-05-27T17:05:25.755939",
     "status": "completed"
    },
    "tags": []
   },
   "outputs": [
    {
     "data": {
      "text/html": [
       "<div>\n",
       "<style scoped>\n",
       "    .dataframe tbody tr th:only-of-type {\n",
       "        vertical-align: middle;\n",
       "    }\n",
       "\n",
       "    .dataframe tbody tr th {\n",
       "        vertical-align: top;\n",
       "    }\n",
       "\n",
       "    .dataframe thead th {\n",
       "        text-align: right;\n",
       "    }\n",
       "</style>\n",
       "<table border=\"1\" class=\"dataframe\">\n",
       "  <thead>\n",
       "    <tr style=\"text-align: right;\">\n",
       "      <th></th>\n",
       "      <th>label</th>\n",
       "      <th>pixel0</th>\n",
       "      <th>pixel1</th>\n",
       "      <th>pixel2</th>\n",
       "      <th>pixel3</th>\n",
       "      <th>pixel4</th>\n",
       "      <th>pixel5</th>\n",
       "      <th>pixel6</th>\n",
       "      <th>pixel7</th>\n",
       "      <th>pixel8</th>\n",
       "      <th>...</th>\n",
       "      <th>pixel774</th>\n",
       "      <th>pixel775</th>\n",
       "      <th>pixel776</th>\n",
       "      <th>pixel777</th>\n",
       "      <th>pixel778</th>\n",
       "      <th>pixel779</th>\n",
       "      <th>pixel780</th>\n",
       "      <th>pixel781</th>\n",
       "      <th>pixel782</th>\n",
       "      <th>pixel783</th>\n",
       "    </tr>\n",
       "  </thead>\n",
       "  <tbody>\n",
       "    <tr>\n",
       "      <th>0</th>\n",
       "      <td>1</td>\n",
       "      <td>0</td>\n",
       "      <td>0</td>\n",
       "      <td>0</td>\n",
       "      <td>0</td>\n",
       "      <td>0</td>\n",
       "      <td>0</td>\n",
       "      <td>0</td>\n",
       "      <td>0</td>\n",
       "      <td>0</td>\n",
       "      <td>...</td>\n",
       "      <td>0</td>\n",
       "      <td>0</td>\n",
       "      <td>0</td>\n",
       "      <td>0</td>\n",
       "      <td>0</td>\n",
       "      <td>0</td>\n",
       "      <td>0</td>\n",
       "      <td>0</td>\n",
       "      <td>0</td>\n",
       "      <td>0</td>\n",
       "    </tr>\n",
       "    <tr>\n",
       "      <th>1</th>\n",
       "      <td>0</td>\n",
       "      <td>0</td>\n",
       "      <td>0</td>\n",
       "      <td>0</td>\n",
       "      <td>0</td>\n",
       "      <td>0</td>\n",
       "      <td>0</td>\n",
       "      <td>0</td>\n",
       "      <td>0</td>\n",
       "      <td>0</td>\n",
       "      <td>...</td>\n",
       "      <td>0</td>\n",
       "      <td>0</td>\n",
       "      <td>0</td>\n",
       "      <td>0</td>\n",
       "      <td>0</td>\n",
       "      <td>0</td>\n",
       "      <td>0</td>\n",
       "      <td>0</td>\n",
       "      <td>0</td>\n",
       "      <td>0</td>\n",
       "    </tr>\n",
       "    <tr>\n",
       "      <th>2</th>\n",
       "      <td>1</td>\n",
       "      <td>0</td>\n",
       "      <td>0</td>\n",
       "      <td>0</td>\n",
       "      <td>0</td>\n",
       "      <td>0</td>\n",
       "      <td>0</td>\n",
       "      <td>0</td>\n",
       "      <td>0</td>\n",
       "      <td>0</td>\n",
       "      <td>...</td>\n",
       "      <td>0</td>\n",
       "      <td>0</td>\n",
       "      <td>0</td>\n",
       "      <td>0</td>\n",
       "      <td>0</td>\n",
       "      <td>0</td>\n",
       "      <td>0</td>\n",
       "      <td>0</td>\n",
       "      <td>0</td>\n",
       "      <td>0</td>\n",
       "    </tr>\n",
       "    <tr>\n",
       "      <th>3</th>\n",
       "      <td>4</td>\n",
       "      <td>0</td>\n",
       "      <td>0</td>\n",
       "      <td>0</td>\n",
       "      <td>0</td>\n",
       "      <td>0</td>\n",
       "      <td>0</td>\n",
       "      <td>0</td>\n",
       "      <td>0</td>\n",
       "      <td>0</td>\n",
       "      <td>...</td>\n",
       "      <td>0</td>\n",
       "      <td>0</td>\n",
       "      <td>0</td>\n",
       "      <td>0</td>\n",
       "      <td>0</td>\n",
       "      <td>0</td>\n",
       "      <td>0</td>\n",
       "      <td>0</td>\n",
       "      <td>0</td>\n",
       "      <td>0</td>\n",
       "    </tr>\n",
       "    <tr>\n",
       "      <th>4</th>\n",
       "      <td>0</td>\n",
       "      <td>0</td>\n",
       "      <td>0</td>\n",
       "      <td>0</td>\n",
       "      <td>0</td>\n",
       "      <td>0</td>\n",
       "      <td>0</td>\n",
       "      <td>0</td>\n",
       "      <td>0</td>\n",
       "      <td>0</td>\n",
       "      <td>...</td>\n",
       "      <td>0</td>\n",
       "      <td>0</td>\n",
       "      <td>0</td>\n",
       "      <td>0</td>\n",
       "      <td>0</td>\n",
       "      <td>0</td>\n",
       "      <td>0</td>\n",
       "      <td>0</td>\n",
       "      <td>0</td>\n",
       "      <td>0</td>\n",
       "    </tr>\n",
       "  </tbody>\n",
       "</table>\n",
       "<p>5 rows × 785 columns</p>\n",
       "</div>"
      ],
      "text/plain": [
       "   label  pixel0  pixel1  pixel2  pixel3  pixel4  pixel5  pixel6  pixel7  \\\n",
       "0      1       0       0       0       0       0       0       0       0   \n",
       "1      0       0       0       0       0       0       0       0       0   \n",
       "2      1       0       0       0       0       0       0       0       0   \n",
       "3      4       0       0       0       0       0       0       0       0   \n",
       "4      0       0       0       0       0       0       0       0       0   \n",
       "\n",
       "   pixel8  ...  pixel774  pixel775  pixel776  pixel777  pixel778  pixel779  \\\n",
       "0       0  ...         0         0         0         0         0         0   \n",
       "1       0  ...         0         0         0         0         0         0   \n",
       "2       0  ...         0         0         0         0         0         0   \n",
       "3       0  ...         0         0         0         0         0         0   \n",
       "4       0  ...         0         0         0         0         0         0   \n",
       "\n",
       "   pixel780  pixel781  pixel782  pixel783  \n",
       "0         0         0         0         0  \n",
       "1         0         0         0         0  \n",
       "2         0         0         0         0  \n",
       "3         0         0         0         0  \n",
       "4         0         0         0         0  \n",
       "\n",
       "[5 rows x 785 columns]"
      ]
     },
     "execution_count": 3,
     "metadata": {},
     "output_type": "execute_result"
    }
   ],
   "source": [
    "data.head()"
   ]
  },
  {
   "cell_type": "code",
   "execution_count": 4,
   "id": "b7e66ab0",
   "metadata": {
    "execution": {
     "iopub.execute_input": "2025-05-27T17:05:25.790968Z",
     "iopub.status.busy": "2025-05-27T17:05:25.790747Z",
     "iopub.status.idle": "2025-05-27T17:05:26.475908Z",
     "shell.execute_reply": "2025-05-27T17:05:26.475240Z"
    },
    "papermill": {
     "duration": 0.68991,
     "end_time": "2025-05-27T17:05:26.477400",
     "exception": false,
     "start_time": "2025-05-27T17:05:25.787490",
     "status": "completed"
    },
    "tags": []
   },
   "outputs": [],
   "source": [
    "data = np.array(data)\n",
    "m, n = data.shape\n",
    "np.random.shuffle(data) \n",
    "\n",
    "data_dev = data[0:1000].T\n",
    "Y_dev = data_dev[0]\n",
    "X_dev = data_dev[1:n]\n",
    "X_dev = X_dev / 255.\n",
    "\n",
    "data_train = data[1000:m].T\n",
    "Y_train = data_train[0]\n",
    "X_train = data_train[1:n]\n",
    "X_train = X_train / 255.\n",
    "_,m_train = X_train.shape"
   ]
  },
  {
   "cell_type": "code",
   "execution_count": 5,
   "id": "2b933a43",
   "metadata": {
    "execution": {
     "iopub.execute_input": "2025-05-27T17:05:26.483746Z",
     "iopub.status.busy": "2025-05-27T17:05:26.483243Z",
     "iopub.status.idle": "2025-05-27T17:05:26.492107Z",
     "shell.execute_reply": "2025-05-27T17:05:26.491526Z"
    },
    "papermill": {
     "duration": 0.01302,
     "end_time": "2025-05-27T17:05:26.493214",
     "exception": false,
     "start_time": "2025-05-27T17:05:26.480194",
     "status": "completed"
    },
    "tags": []
   },
   "outputs": [],
   "source": [
    "def init_params():\n",
    "    W1 = np.random.rand(10, 784) - 0.5\n",
    "    b1 = np.random.rand(10, 1) - 0.5\n",
    "    W2 = np.random.rand(10, 10) - 0.5\n",
    "    b2 = np.random.rand(10, 1) - 0.5\n",
    "    return W1, b1, W2, b2\n",
    "\n",
    "def ReLU(Z):\n",
    "    return np.maximum(Z, 0)\n",
    "\n",
    "def softmax(Z):\n",
    "    A = np.exp(Z) / sum(np.exp(Z))\n",
    "    return A\n",
    "    \n",
    "def forward_prop(W1, b1, W2, b2, X):\n",
    "    Z1 = W1.dot(X) + b1\n",
    "    A1 = ReLU(Z1)\n",
    "    Z2 = W2.dot(A1) + b2\n",
    "    A2 = softmax(Z2)\n",
    "    return Z1, A1, Z2, A2\n",
    "\n",
    "def ReLU_deriv(Z):\n",
    "    return Z > 0\n",
    "\n",
    "def one_hot(Y):\n",
    "    one_hot_Y = np.zeros((Y.size, Y.max() + 1))\n",
    "    one_hot_Y[np.arange(Y.size), Y] = 1\n",
    "    one_hot_Y = one_hot_Y.T\n",
    "    return one_hot_Y\n",
    "\n",
    "def backward_prop(Z1, A1, Z2, A2, W1, W2, X, Y):\n",
    "    one_hot_Y = one_hot(Y)\n",
    "    dZ2 = A2 - one_hot_Y\n",
    "    dW2 = 1 / m * dZ2.dot(A1.T)\n",
    "    db2 = 1 / m * np.sum(dZ2)\n",
    "    dZ1 = W2.T.dot(dZ2) * ReLU_deriv(Z1)\n",
    "    dW1 = 1 / m * dZ1.dot(X.T)\n",
    "    db1 = 1 / m * np.sum(dZ1)\n",
    "    return dW1, db1, dW2, db2\n",
    "\n",
    "def update_params(W1, b1, W2, b2, dW1, db1, dW2, db2, alpha):\n",
    "    W1 = W1 - alpha * dW1\n",
    "    b1 = b1 - alpha * db1    \n",
    "    W2 = W2 - alpha * dW2  \n",
    "    b2 = b2 - alpha * db2    \n",
    "    return W1, b1, W2, b2"
   ]
  },
  {
   "cell_type": "code",
   "execution_count": 6,
   "id": "766fc680",
   "metadata": {
    "execution": {
     "iopub.execute_input": "2025-05-27T17:05:26.498368Z",
     "iopub.status.busy": "2025-05-27T17:05:26.498178Z",
     "iopub.status.idle": "2025-05-27T17:05:26.503708Z",
     "shell.execute_reply": "2025-05-27T17:05:26.503029Z"
    },
    "papermill": {
     "duration": 0.009487,
     "end_time": "2025-05-27T17:05:26.504844",
     "exception": false,
     "start_time": "2025-05-27T17:05:26.495357",
     "status": "completed"
    },
    "tags": []
   },
   "outputs": [],
   "source": [
    "def get_predictions(A2):\n",
    "    return np.argmax(A2, 0)\n",
    "\n",
    "def get_accuracy(predictions, Y):\n",
    "    print(predictions, Y)\n",
    "    return np.sum(predictions == Y) / Y.size\n",
    "\n",
    "def gradient_descent(X, Y, alpha, iterations):\n",
    "    W1, b1, W2, b2 = init_params()\n",
    "    for i in range(iterations):\n",
    "        Z1, A1, Z2, A2 = forward_prop(W1, b1, W2, b2, X)\n",
    "        dW1, db1, dW2, db2 = backward_prop(Z1, A1, Z2, A2, W1, W2, X, Y)\n",
    "        W1, b1, W2, b2 = update_params(W1, b1, W2, b2, dW1, db1, dW2, db2, alpha)\n",
    "        if i % 10 == 0:\n",
    "            print(\"Iteration: \", i)\n",
    "            predictions = get_predictions(A2)\n",
    "            print(get_accuracy(predictions, Y))\n",
    "    return W1, b1, W2, b2"
   ]
  },
  {
   "cell_type": "code",
   "execution_count": 7,
   "id": "b3fdaa95",
   "metadata": {
    "execution": {
     "iopub.execute_input": "2025-05-27T17:05:26.510341Z",
     "iopub.status.busy": "2025-05-27T17:05:26.510133Z",
     "iopub.status.idle": "2025-05-27T17:05:59.002039Z",
     "shell.execute_reply": "2025-05-27T17:05:59.001313Z"
    },
    "papermill": {
     "duration": 32.496488,
     "end_time": "2025-05-27T17:05:59.003653",
     "exception": false,
     "start_time": "2025-05-27T17:05:26.507165",
     "status": "completed"
    },
    "tags": []
   },
   "outputs": [
    {
     "name": "stdout",
     "output_type": "stream",
     "text": [
      "Iteration:  0\n",
      "[1 5 3 ... 7 0 7] [9 0 3 ... 1 4 4]\n",
      "0.11992682926829268\n",
      "Iteration:  10\n",
      "[1 5 3 ... 8 0 7] [9 0 3 ... 1 4 4]\n",
      "0.16934146341463416\n",
      "Iteration:  20\n",
      "[1 5 3 ... 8 5 7] [9 0 3 ... 1 4 4]\n",
      "0.2268780487804878\n",
      "Iteration:  30\n",
      "[7 0 3 ... 8 5 0] [9 0 3 ... 1 4 4]\n",
      "0.2730975609756098\n",
      "Iteration:  40\n",
      "[7 0 3 ... 8 5 7] [9 0 3 ... 1 4 4]\n",
      "0.3220487804878049\n",
      "Iteration:  50\n",
      "[4 0 3 ... 8 5 4] [9 0 3 ... 1 4 4]\n",
      "0.3743658536585366\n",
      "Iteration:  60\n",
      "[7 0 3 ... 2 5 4] [9 0 3 ... 1 4 4]\n",
      "0.44002439024390244\n",
      "Iteration:  70\n",
      "[7 0 3 ... 2 5 4] [9 0 3 ... 1 4 4]\n",
      "0.5180975609756098\n",
      "Iteration:  80\n",
      "[7 0 3 ... 2 5 4] [9 0 3 ... 1 4 4]\n",
      "0.5747560975609756\n",
      "Iteration:  90\n",
      "[7 0 3 ... 2 5 4] [9 0 3 ... 1 4 4]\n",
      "0.6137317073170732\n",
      "Iteration:  100\n",
      "[7 0 3 ... 2 5 4] [9 0 3 ... 1 4 4]\n",
      "0.645829268292683\n",
      "Iteration:  110\n",
      "[4 0 3 ... 2 4 4] [9 0 3 ... 1 4 4]\n",
      "0.6703658536585366\n",
      "Iteration:  120\n",
      "[4 0 3 ... 2 4 4] [9 0 3 ... 1 4 4]\n",
      "0.6922926829268292\n",
      "Iteration:  130\n",
      "[9 0 3 ... 2 4 4] [9 0 3 ... 1 4 4]\n",
      "0.7097560975609756\n",
      "Iteration:  140\n",
      "[9 0 3 ... 2 4 4] [9 0 3 ... 1 4 4]\n",
      "0.7238536585365853\n",
      "Iteration:  150\n",
      "[9 0 3 ... 2 4 4] [9 0 3 ... 1 4 4]\n",
      "0.735390243902439\n",
      "Iteration:  160\n",
      "[9 0 3 ... 2 4 4] [9 0 3 ... 1 4 4]\n",
      "0.7468292682926829\n",
      "Iteration:  170\n",
      "[9 0 3 ... 2 4 4] [9 0 3 ... 1 4 4]\n",
      "0.7555853658536585\n",
      "Iteration:  180\n",
      "[9 0 3 ... 2 4 4] [9 0 3 ... 1 4 4]\n",
      "0.7647317073170732\n",
      "Iteration:  190\n",
      "[9 0 3 ... 2 4 4] [9 0 3 ... 1 4 4]\n",
      "0.7724878048780488\n",
      "Iteration:  200\n",
      "[9 0 3 ... 2 4 4] [9 0 3 ... 1 4 4]\n",
      "0.7789756097560976\n",
      "Iteration:  210\n",
      "[9 0 3 ... 2 4 4] [9 0 3 ... 1 4 4]\n",
      "0.784\n",
      "Iteration:  220\n",
      "[9 0 3 ... 2 4 4] [9 0 3 ... 1 4 4]\n",
      "0.7890243902439025\n",
      "Iteration:  230\n",
      "[9 0 3 ... 2 4 4] [9 0 3 ... 1 4 4]\n",
      "0.7940243902439025\n",
      "Iteration:  240\n",
      "[9 0 3 ... 2 4 4] [9 0 3 ... 1 4 4]\n",
      "0.7991219512195122\n",
      "Iteration:  250\n",
      "[9 0 3 ... 2 4 4] [9 0 3 ... 1 4 4]\n",
      "0.8040243902439025\n",
      "Iteration:  260\n",
      "[9 0 3 ... 2 4 4] [9 0 3 ... 1 4 4]\n",
      "0.808439024390244\n",
      "Iteration:  270\n",
      "[9 0 3 ... 2 4 4] [9 0 3 ... 1 4 4]\n",
      "0.8119756097560976\n",
      "Iteration:  280\n",
      "[9 0 3 ... 2 4 4] [9 0 3 ... 1 4 4]\n",
      "0.8156097560975609\n",
      "Iteration:  290\n",
      "[9 0 3 ... 2 4 4] [9 0 3 ... 1 4 4]\n",
      "0.8189268292682926\n",
      "Iteration:  300\n",
      "[9 0 3 ... 2 4 4] [9 0 3 ... 1 4 4]\n",
      "0.821560975609756\n",
      "Iteration:  310\n",
      "[9 0 3 ... 2 4 4] [9 0 3 ... 1 4 4]\n",
      "0.8246097560975609\n",
      "Iteration:  320\n",
      "[9 0 3 ... 2 4 4] [9 0 3 ... 1 4 4]\n",
      "0.8269268292682926\n",
      "Iteration:  330\n",
      "[9 0 3 ... 2 4 4] [9 0 3 ... 1 4 4]\n",
      "0.8295121951219512\n",
      "Iteration:  340\n",
      "[9 0 3 ... 2 4 4] [9 0 3 ... 1 4 4]\n",
      "0.8319024390243902\n",
      "Iteration:  350\n",
      "[9 0 3 ... 2 4 4] [9 0 3 ... 1 4 4]\n",
      "0.834\n",
      "Iteration:  360\n",
      "[9 0 3 ... 2 4 4] [9 0 3 ... 1 4 4]\n",
      "0.8362682926829268\n",
      "Iteration:  370\n",
      "[9 0 3 ... 2 4 4] [9 0 3 ... 1 4 4]\n",
      "0.8383170731707317\n",
      "Iteration:  380\n",
      "[9 0 3 ... 2 4 4] [9 0 3 ... 1 4 4]\n",
      "0.8399024390243902\n",
      "Iteration:  390\n",
      "[9 0 3 ... 2 4 4] [9 0 3 ... 1 4 4]\n",
      "0.8416585365853658\n",
      "Iteration:  400\n",
      "[9 0 3 ... 2 4 4] [9 0 3 ... 1 4 4]\n",
      "0.8435121951219512\n",
      "Iteration:  410\n",
      "[9 0 3 ... 2 4 4] [9 0 3 ... 1 4 4]\n",
      "0.8452439024390244\n",
      "Iteration:  420\n",
      "[9 0 3 ... 2 4 4] [9 0 3 ... 1 4 4]\n",
      "0.8470731707317073\n",
      "Iteration:  430\n",
      "[9 0 3 ... 2 4 4] [9 0 3 ... 1 4 4]\n",
      "0.8488780487804878\n",
      "Iteration:  440\n",
      "[9 0 3 ... 2 4 4] [9 0 3 ... 1 4 4]\n",
      "0.850170731707317\n",
      "Iteration:  450\n",
      "[9 0 3 ... 2 4 4] [9 0 3 ... 1 4 4]\n",
      "0.851609756097561\n",
      "Iteration:  460\n",
      "[9 0 3 ... 2 4 4] [9 0 3 ... 1 4 4]\n",
      "0.8533414634146341\n",
      "Iteration:  470\n",
      "[9 0 3 ... 2 4 4] [9 0 3 ... 1 4 4]\n",
      "0.8547317073170732\n",
      "Iteration:  480\n",
      "[9 0 3 ... 2 4 4] [9 0 3 ... 1 4 4]\n",
      "0.8561463414634146\n",
      "Iteration:  490\n",
      "[9 0 3 ... 2 4 4] [9 0 3 ... 1 4 4]\n",
      "0.8574390243902439\n"
     ]
    }
   ],
   "source": [
    "W1, b1, W2, b2 = gradient_descent(X_train, Y_train, 0.10, 500)\n"
   ]
  },
  {
   "cell_type": "code",
   "execution_count": 8,
   "id": "e7fae259",
   "metadata": {
    "execution": {
     "iopub.execute_input": "2025-05-27T17:05:59.015037Z",
     "iopub.status.busy": "2025-05-27T17:05:59.014587Z",
     "iopub.status.idle": "2025-05-27T17:05:59.019894Z",
     "shell.execute_reply": "2025-05-27T17:05:59.019325Z"
    },
    "papermill": {
     "duration": 0.012292,
     "end_time": "2025-05-27T17:05:59.020961",
     "exception": false,
     "start_time": "2025-05-27T17:05:59.008669",
     "status": "completed"
    },
    "tags": []
   },
   "outputs": [],
   "source": [
    "def make_predictions(X, W1, b1, W2, b2):\n",
    "    _, _, _, A2 = forward_prop(W1, b1, W2, b2, X)\n",
    "    predictions = get_predictions(A2)\n",
    "    return predictions\n",
    "\n",
    "def test_prediction(index, W1, b1, W2, b2):\n",
    "    current_image = X_train[:, index, None]\n",
    "    prediction = make_predictions(X_train[:, index, None], W1, b1, W2, b2)\n",
    "    label = Y_train[index]\n",
    "    print(\"Prediction: \", prediction)\n",
    "    print(\"Label: \", label)\n",
    "    \n",
    "    current_image = current_image.reshape((28, 28)) * 255\n",
    "    plt.gray()\n",
    "    plt.imshow(current_image, interpolation='nearest')\n",
    "    plt.show()"
   ]
  },
  {
   "cell_type": "code",
   "execution_count": 9,
   "id": "903f9fb7",
   "metadata": {
    "execution": {
     "iopub.execute_input": "2025-05-27T17:05:59.030207Z",
     "iopub.status.busy": "2025-05-27T17:05:59.030009Z",
     "iopub.status.idle": "2025-05-27T17:05:59.649288Z",
     "shell.execute_reply": "2025-05-27T17:05:59.648692Z"
    },
    "papermill": {
     "duration": 0.625303,
     "end_time": "2025-05-27T17:05:59.650525",
     "exception": false,
     "start_time": "2025-05-27T17:05:59.025222",
     "status": "completed"
    },
    "tags": []
   },
   "outputs": [
    {
     "name": "stdout",
     "output_type": "stream",
     "text": [
      "Prediction:  [9]\n",
      "Label:  9\n"
     ]
    },
    {
     "data": {
      "image/png": "[encoded data removed]",
      "text/plain": [
       "<Figure size 640x480 with 1 Axes>"
      ]
     },
     "metadata": {},
     "output_type": "display_data"
    },
    {
     "name": "stdout",
     "output_type": "stream",
     "text": [
      "Prediction:  [0]\n",
      "Label:  0\n"
     ]
    },
    {
     "data": {
      "image/png": "[encoded data removed]",
      "text/plain": [
       "<Figure size 640x480 with 1 Axes>"
      ]
     },
     "metadata": {},
     "output_type": "display_data"
    },
    {
     "name": "stdout",
     "output_type": "stream",
     "text": [
      "Prediction:  [3]\n",
      "Label:  3\n"
     ]
    },
    {
     "data": {
      "image/png": "[encoded data removed]",
      "text/plain": [
       "<Figure size 640x480 with 1 Axes>"
      ]
     },
     "metadata": {},
     "output_type": "display_data"
    },
    {
     "name": "stdout",
     "output_type": "stream",
     "text": [
      "Prediction:  [3]\n",
      "Label:  8\n"
     ]
    },
    {
     "data": {
      "image/png": "[encoded data removed]",
      "text/plain": [
       "<Figure size 640x480 with 1 Axes>"
      ]
     },
     "metadata": {},
     "output_type": "display_data"
    }
   ],
   "source": [
    "test_prediction(0, W1, b1, W2, b2)\n",
    "test_prediction(1, W1, b1, W2, b2)\n",
    "test_prediction(2, W1, b1, W2, b2)\n",
    "test_prediction(3, W1, b1, W2, b2)"
   ]
  },
  {
   "cell_type": "code",
   "execution_count": 10,
   "id": "0b307b3e",
   "metadata": {
    "execution": {
     "iopub.execute_input": "2025-05-27T17:05:59.662216Z",
     "iopub.status.busy": "2025-05-27T17:05:59.661967Z",
     "iopub.status.idle": "2025-05-27T17:05:59.672634Z",
     "shell.execute_reply": "2025-05-27T17:05:59.671810Z"
    },
    "papermill": {
     "duration": 0.017749,
     "end_time": "2025-05-27T17:05:59.673949",
     "exception": false,
     "start_time": "2025-05-27T17:05:59.656200",
     "status": "completed"
    },
    "tags": []
   },
   "outputs": [
    {
     "name": "stdout",
     "output_type": "stream",
     "text": [
      "[3 6 1 3 8 1 8 9 6 1 1 7 6 4 5 1 3 1 0 4 2 0 3 4 4 0 0 0 8 9 2 6 4 9 3 6 4\n",
      " 8 6 0 6 4 7 0 8 8 2 5 4 8 7 2 0 6 2 1 6 2 1 6 6 3 6 1 9 2 1 1 8 4 9 1 2 6\n",
      " 8 8 7 3 6 2 7 7 2 3 0 1 9 9 8 7 4 0 7 9 2 5 3 2 3 1 7 5 8 5 6 0 0 5 9 7 8\n",
      " 3 2 4 2 1 7 8 4 4 7 1 9 7 1 3 2 0 2 9 3 8 1 9 9 3 8 4 4 7 7 0 7 0 7 0 6 7\n",
      " 6 8 5 3 2 5 0 4 7 7 9 7 9 6 1 1 6 2 6 5 7 0 1 1 8 2 8 4 5 8 7 8 4 9 4 4 6\n",
      " 8 2 6 5 0 5 1 6 6 6 1 1 2 9 4 3 2 6 1 4 3 8 3 8 3 5 4 4 2 9 6 8 4 2 4 8 6\n",
      " 3 4 1 7 4 8 3 0 7 4 4 4 3 4 3 9 1 6 9 6 2 9 5 5 5 7 0 2 1 9 6 9 1 0 9 1 4\n",
      " 1 2 7 3 8 0 1 8 4 8 7 9 4 9 8 1 0 6 5 3 9 4 5 6 1 2 1 4 7 7 2 1 1 5 5 4 2\n",
      " 6 3 8 8 9 2 7 6 0 6 9 9 2 0 0 4 8 3 4 1 6 9 5 0 6 8 1 0 9 6 8 6 0 1 5 9 3\n",
      " 6 9 2 5 5 4 1 1 1 2 4 2 1 2 7 8 8 8 6 4 9 7 2 2 9 9 6 9 1 8 7 1 3 8 3 7 3\n",
      " 7 8 2 6 3 6 6 2 2 1 5 4 1 4 3 0 0 5 3 6 1 8 1 2 1 9 3 2 4 6 7 1 6 4 1 7 5\n",
      " 1 0 2 7 8 8 3 4 0 1 5 6 7 3 2 4 8 6 5 3 8 2 3 1 8 2 4 3 1 3 5 4 8 8 5 7 2\n",
      " 7 9 1 2 3 9 2 1 2 2 1 7 4 1 3 8 0 6 1 4 3 4 0 0 1 3 3 8 5 0 9 1 9 5 1 7 6\n",
      " 0 2 2 1 4 3 8 0 7 4 9 7 7 0 2 4 2 0 9 8 8 6 5 3 0 1 2 2 9 1 7 9 6 9 3 5 1\n",
      " 6 1 4 7 2 8 6 6 9 1 4 4 6 8 6 8 7 7 1 0 9 6 9 4 2 9 0 2 5 6 9 3 1 9 5 4 6\n",
      " 5 0 0 1 4 3 7 3 5 3 5 5 4 1 6 0 0 2 9 3 9 4 6 5 5 7 6 2 1 9 9 4 5 4 3 6 4\n",
      " 4 5 3 5 5 3 3 1 1 1 5 1 0 4 9 9 6 6 8 7 9 8 7 2 1 9 7 9 7 9 7 8 1 2 8 6 1\n",
      " 8 5 0 5 3 0 3 5 6 2 1 8 9 1 8 4 2 0 6 9 5 0 0 9 0 4 8 3 7 6 0 5 3 2 7 7 2\n",
      " 7 9 4 9 1 5 6 7 0 6 6 0 5 4 3 0 8 4 3 4 3 3 4 6 6 1 4 8 7 7 2 3 0 6 8 4 2\n",
      " 1 2 4 4 9 5 5 2 6 1 9 3 4 9 5 5 7 9 3 4 2 8 9 3 1 2 5 1 3 7 1 2 3 7 3 9 8\n",
      " 9 7 3 6 1 3 2 3 5 4 8 5 9 9 1 2 2 0 3 6 3 5 5 9 2 4 5 9 1 7 7 7 6 2 0 4 2\n",
      " 8 6 8 1 4 0 9 1 4 8 7 0 6 1 4 9 2 6 0 0 9 7 6 6 4 1 3 3 4 5 4 5 4 9 0 1 5\n",
      " 2 4 2 3 0 8 8 3 8 4 6 9 1 4 5 7 3 7 9 7 5 6 1 6 0 6 8 2 1 1 6 1 9 9 6 9 8\n",
      " 2 4 8 3 4 5 1 4 4 2 9 7 7 1 2 2 2 6 2 9 9 2 1 6 6 7 8 4 6 6 9 0 9 8 6 1 7\n",
      " 2 7 7 5 7 3 6 9 4 3 1 9 8 3 9 9 1 2 5 8 6 6 6 4 8 0 7 7 0 8 4 4 9 9 9 0 2\n",
      " 9 5 1 4 1 9 8 5 7 1 0 8 9 6 7 6 3 5 5 7 5 3 4 6 6 1 4 5 0 1 1 1 5 8 0 1 7\n",
      " 7 0 9 7 1 3 4 3 6 1 6 4 7 3 1 3 5 0 1 0 3 4 7 9 5 3 2 3 5 4 6 4 1 2 1 3 3\n",
      " 7] [3 6 1 3 8 1 8 7 6 1 1 7 6 4 5 1 3 8 0 4 2 0 3 4 4 0 0 0 3 9 2 6 4 3 3 6 4\n",
      " 4 6 0 6 4 9 0 8 3 2 5 4 8 7 1 0 2 2 1 6 2 1 6 6 1 6 1 3 2 1 1 2 4 9 1 2 6\n",
      " 0 8 7 3 6 2 7 7 2 3 0 1 4 9 8 7 4 0 9 9 1 3 3 2 3 1 0 5 8 3 8 0 0 5 9 7 8\n",
      " 3 2 2 2 1 7 8 4 4 7 1 9 7 1 3 2 0 2 9 3 6 1 8 4 3 8 4 4 4 7 3 7 0 7 0 6 7\n",
      " 6 5 5 3 2 5 0 4 7 7 9 7 7 6 1 1 6 2 8 5 7 0 1 1 8 2 8 4 5 8 7 8 4 9 4 4 6\n",
      " 8 2 6 5 0 6 1 6 6 6 1 1 2 3 4 2 9 6 1 4 3 8 3 8 3 5 4 4 2 9 6 5 4 2 4 5 6\n",
      " 3 4 1 7 4 8 3 0 7 4 9 4 3 9 3 9 1 6 9 0 2 9 5 5 5 7 0 2 1 4 6 9 1 0 9 1 4\n",
      " 1 2 7 2 8 0 1 8 4 8 7 4 4 9 8 8 0 6 3 9 2 4 5 6 1 4 1 9 5 7 2 1 1 5 3 4 2\n",
      " 6 3 8 2 9 2 7 0 0 6 9 9 2 0 0 4 8 3 5 1 6 9 5 0 6 8 2 0 9 6 8 6 0 1 5 9 3\n",
      " 6 9 6 5 5 4 1 1 1 2 4 2 1 2 7 5 8 8 2 4 9 7 8 2 9 9 6 9 1 8 7 2 3 8 3 7 3\n",
      " 7 8 2 6 3 6 6 2 2 1 5 4 7 4 3 0 6 5 3 2 1 8 1 3 1 9 3 2 4 6 7 1 6 4 2 7 6\n",
      " 1 0 2 7 8 5 3 4 0 1 0 6 7 3 2 4 8 6 5 3 8 2 3 1 8 2 2 5 1 3 5 4 8 8 5 9 2\n",
      " 7 9 1 2 3 9 2 1 2 2 1 7 4 1 3 8 0 6 1 2 3 4 0 0 1 1 3 8 5 0 9 1 9 5 9 1 6\n",
      " 0 1 2 8 4 3 8 0 7 4 9 7 7 0 2 4 2 5 7 8 8 6 5 3 0 1 6 2 7 3 7 4 6 9 3 3 3\n",
      " 6 1 4 7 2 8 6 6 9 1 3 4 6 8 5 8 7 7 1 0 9 6 9 4 2 9 0 2 8 6 9 8 8 9 5 4 3\n",
      " 5 0 0 1 4 3 4 3 5 3 5 5 4 1 6 0 7 2 9 3 9 4 6 5 5 7 6 1 1 9 8 4 5 4 3 6 9\n",
      " 9 5 3 8 9 3 3 5 1 1 5 1 0 4 9 9 6 6 8 7 9 8 7 2 1 9 7 4 7 9 7 8 1 2 9 6 1\n",
      " 9 5 0 5 3 6 7 5 6 2 1 8 7 1 8 9 2 0 6 9 0 0 0 9 9 4 8 5 7 6 0 5 8 2 7 7 9\n",
      " 7 9 4 9 1 5 6 7 0 6 6 0 5 4 3 0 8 4 8 4 8 3 4 6 6 1 4 8 7 9 3 3 0 6 8 4 2\n",
      " 1 2 9 7 9 5 5 3 5 8 9 3 4 8 5 5 9 9 3 4 6 8 9 3 1 2 5 1 3 7 1 2 3 7 3 9 8\n",
      " 9 7 3 6 1 3 2 3 5 4 8 2 7 9 1 2 2 0 3 6 3 5 5 9 2 4 5 8 1 7 7 7 6 2 0 4 2\n",
      " 8 6 8 1 4 0 9 1 4 2 7 0 6 1 4 9 2 6 0 0 9 7 6 6 4 1 3 3 4 8 4 5 4 9 0 1 5\n",
      " 2 4 2 3 0 8 8 5 3 4 6 9 1 8 5 3 3 7 9 7 5 6 1 4 0 6 8 2 1 1 3 1 9 9 6 4 9\n",
      " 3 4 8 3 0 5 1 9 4 2 9 9 7 1 2 2 2 6 8 4 9 2 1 6 6 7 8 4 6 6 4 0 9 8 6 1 7\n",
      " 2 7 7 5 7 3 6 9 4 3 1 9 8 3 9 9 1 2 5 1 6 6 6 4 8 0 7 7 0 8 4 4 9 7 1 0 2\n",
      " 9 5 1 4 1 9 8 0 7 1 6 8 9 3 9 6 3 5 8 9 5 3 4 6 6 1 4 5 0 1 8 1 5 7 0 1 7\n",
      " 7 0 9 7 1 2 4 3 5 1 6 4 7 3 7 3 5 0 1 0 8 4 7 9 5 3 2 3 5 4 6 4 1 2 1 3 3\n",
      " 7]\n"
     ]
    },
    {
     "data": {
      "text/plain": [
       "0.843"
      ]
     },
     "execution_count": 10,
     "metadata": {},
     "output_type": "execute_result"
    }
   ],
   "source": [
    "dev_predictions = make_predictions(X_dev, W1, b1, W2, b2)\n",
    "get_accuracy(dev_predictions, Y_dev)"
   ]
  }
 ],
 "metadata": {
  "kaggle": {
   "accelerator": "nvidiaTeslaT4",
   "dataSources": [
    {
     "databundleVersionId": 861823,
     "sourceId": 3004,
     "sourceType": "competition"
    }
   ],
   "dockerImageVersionId": 31041,
   "isGpuEnabled": true,
   "isInternetEnabled": true,
   "language": "python",
   "sourceType": "notebook"
  },
  "kernelspec": {
   "display_name": "Python 3",
   "language": "python",
   "name": "python3"
  },
  "language_info": {
   "codemirror_mode": {
    "name": "ipython",
    "version": 3
   },
   "file_extension": ".py",
   "mimetype": "text/x-python",
   "name": "python",
   "nbconvert_exporter": "python",
   "pygments_lexer": "ipython3",
   "version": "3.11.11"
  },
  "papermill": {
   "default_parameters": {},
   "duration": 43.047126,
   "end_time": "2025-05-27T17:06:00.098722",
   "environment_variables": {},
   "exception": null,
   "input_path": "__notebook__.ipynb",
   "output_path": "__notebook__.ipynb",
   "parameters": {},
   "start_time": "2025-05-27T17:05:17.051596",
   "version": "2.6.0"
  }
 },
 "nbformat": 4,
 "nbformat_minor": 5
}
