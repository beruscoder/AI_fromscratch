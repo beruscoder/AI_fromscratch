{
  "nbformat": 4,
  "nbformat_minor": 0,
  "metadata": {
    "colab": {
      "provenance": [],
      "authorship_tag": "ABX9TyOMus4HROTiESjV7+rrsuNY",
      "include_colab_link": true
    },
    "kernelspec": {
      "name": "python3",
      "display_name": "Python 3"
    },
    "language_info": {
      "name": "python"
    }
  },
  "cells": [
    {
      "cell_type": "markdown",
      "metadata": {
        "id": "view-in-github",
        "colab_type": "text"
      },
      "source": [
        "<a href=\"https://colab.research.google.com/github/beruscoder/AI_fromscratch/blob/main/filter_paddingstride_pooling_sctrach.ipynb\" target=\"_parent\"><img src=\"https://colab.research.google.com/assets/colab-badge.svg\" alt=\"Open In Colab\"/></a>"
      ]
    },
    {
      "cell_type": "code",
      "execution_count": 1,
      "metadata": {
        "id": "eGXsWNTGZ6FE"
      },
      "outputs": [],
      "source": [
        "import numpy as np"
      ]
    },
    {
      "cell_type": "code",
      "source": [
        "image = np.array([\n",
        "    [1,2,3,0,1],\n",
        "    [0,1,2,3,2],\n",
        "    [3,0,1,2,1],\n",
        "    [2,1,3,0,0],\n",
        "    [1,2,0,1,2]\n",
        "])\n",
        "\n",
        "kernel = np.array([\n",
        "    [0,1,0],\n",
        "    [1,-4,1],\n",
        "    [0,1,0]\n",
        "])\n"
      ],
      "metadata": {
        "id": "apjoUuJ8aB4l"
      },
      "execution_count": 4,
      "outputs": []
    },
    {
      "cell_type": "code",
      "source": [
        "def convolve(image ,kernel):\n",
        "  image_h,image_w = np.shape(image)\n",
        "  kernel_h, kernel_w = np.shape(kernel)\n",
        "  output_h = image_h-kernel_h+1\n",
        "  output_w = image_w-kernel_w+1\n",
        "  output = np.zeros((output_h,output_w))\n",
        "\n",
        "  for i in range(output_h):\n",
        "    for j in range(output_w):\n",
        "      region = image[i:i+kernel_h, j:j+kernel_w]\n",
        "      output[i][j] = np.sum(region * kernel)\n",
        "\n",
        "  return output\n"
      ],
      "metadata": {
        "id": "3enlpqs0ibZz"
      },
      "execution_count": 8,
      "outputs": []
    },
    {
      "cell_type": "code",
      "source": [
        "result = convolve(image, kernel)\n",
        "print(result)"
      ],
      "metadata": {
        "colab": {
          "base_uri": "https://localhost:8080/"
        },
        "id": "J4FAn4B1i073",
        "outputId": "b3ed4c2f-f058-4a6a-f2d3-16e07a81cf2f"
      },
      "execution_count": 9,
      "outputs": [
        {
          "output_type": "stream",
          "name": "stdout",
          "text": [
            "[[  0.   0.  -6.]\n",
            " [  6.   3.  -3.]\n",
            " [  3. -10.   6.]]\n"
          ]
        }
      ]
    },
    {
      "cell_type": "code",
      "source": [
        "def pad_image(image, pad):\n",
        "  return np.pad(image, pad, mode ='constant', constant_values=0)"
      ],
      "metadata": {
        "id": "uc6Jood5623R"
      },
      "execution_count": 10,
      "outputs": []
    },
    {
      "cell_type": "code",
      "source": [
        "def padding_stride(image,kernel,stride=1,padding=0):\n",
        "  if padding>0:\n",
        "    image = pad_image(image,padding)\n",
        "\n",
        "    image_h,image_w = image.shape\n",
        "    kernel_h, kernel_w = kernel.shape\n",
        "    output_h = (image_h - kernel_h) // stride+1\n",
        "    output_w = (image_w - kernel_w) // stride+1\n",
        "    output = np.zeros((output_h,output_w))\n",
        "\n",
        "    for i in range(0, output_h * stride,stride): #you can write image_h - kernel_h + 1\n",
        "      for j in range(0, output_w*stride, stride):\n",
        "        region = image[i:i+kernel_h, j:j+kernel_w]\n",
        "        output[i//stride, j//stride] = np.sum(region * kernel)\n",
        "\n",
        "    return output\n",
        ""
      ],
      "metadata": {
        "id": "isfB6sn-v-rw"
      },
      "execution_count": 11,
      "outputs": []
    },
    {
      "cell_type": "code",
      "source": [
        "paded_output = padding_stride(image,kernel,stride=1,padding=1)\n",
        "print(paded_output)"
      ],
      "metadata": {
        "colab": {
          "base_uri": "https://localhost:8080/"
        },
        "id": "Nt2az60K7gxq",
        "outputId": "2d50bbcf-954a-414d-f753-bb587c4ecfa0"
      },
      "execution_count": 12,
      "outputs": [
        {
          "output_type": "stream",
          "name": "stdout",
          "text": [
            "[[ -2.  -3.  -8.   7.  -2.]\n",
            " [  5.   0.   0.  -6.  -3.]\n",
            " [-10.   6.   3.  -3.   0.]\n",
            " [ -3.   3. -10.   6.   3.]\n",
            " [  0.  -6.   6.  -2.  -7.]]\n"
          ]
        }
      ]
    },
    {
      "cell_type": "code",
      "source": [
        "def max_pooling(image, pool_size, stride):\n",
        "    output_h, output_w = paded_output.shape\n",
        "    pool_h = (output_h - pool_size) // stride+1\n",
        "    pool_w = (output_w - pool_size) // stride+1\n",
        "    output2 = np.zeros((pool_h,pool_w))\n",
        "\n",
        "    for i in range(0, pool_h * stride,stride): #you can write image_h - kernel_h + 1\n",
        "      for j in range(0, pool_w*stride, stride):\n",
        "        region = image[i:i+pool_size, j:j+pool_size]\n",
        "        output2[i//stride, j//stride] = np.max(region)\n",
        "\n",
        "    return output2"
      ],
      "metadata": {
        "id": "bXBhi5Yv8Ji3"
      },
      "execution_count": 14,
      "outputs": []
    },
    {
      "cell_type": "code",
      "source": [
        "max_pooling(paded_output,2,1)"
      ],
      "metadata": {
        "colab": {
          "base_uri": "https://localhost:8080/"
        },
        "id": "mZsa5Qfl_CuE",
        "outputId": "ca07a053-3667-4b9f-ef14-517bba6d0ae3"
      },
      "execution_count": 16,
      "outputs": [
        {
          "output_type": "execute_result",
          "data": {
            "text/plain": [
              "array([[5., 0., 7., 7.],\n",
              "       [6., 6., 3., 0.],\n",
              "       [6., 6., 6., 6.],\n",
              "       [3., 6., 6., 6.]])"
            ]
          },
          "metadata": {},
          "execution_count": 16
        }
      ]
    }
  ]
}