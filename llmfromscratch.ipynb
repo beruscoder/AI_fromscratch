{
  "nbformat": 4,
  "nbformat_minor": 0,
  "metadata": {
    "colab": {
      "provenance": [],
      "authorship_tag": "ABX9TyOLFdfhOZAP0yzLV08afUPK",
      "include_colab_link": true
    },
    "kernelspec": {
      "name": "python3",
      "display_name": "Python 3"
    },
    "language_info": {
      "name": "python"
    }
  },
  "cells": [
    {
      "cell_type": "markdown",
      "metadata": {
        "id": "view-in-github",
        "colab_type": "text"
      },
      "source": [
        "<a href=\"https://colab.research.google.com/github/beruscoder/AI_fromscratch/blob/main/llmfromscratch.ipynb\" target=\"_parent\"><img src=\"https://colab.research.google.com/assets/colab-badge.svg\" alt=\"Open In Colab\"/></a>"
      ]
    },
    {
      "cell_type": "code",
      "source": [
        "from abc import ABC, abstractmethod"
      ],
      "metadata": {
        "id": "sKHo4m9JpZTJ"
      },
      "execution_count": 1,
      "outputs": []
    },
    {
      "cell_type": "code",
      "source": [
        "class runnaable(ABC):\n",
        "\n",
        "  @abstractmethod\n",
        "  def invoke(input_data):\n",
        "    pass"
      ],
      "metadata": {
        "id": "1n6l1QWqpkXj"
      },
      "execution_count": 2,
      "outputs": []
    },
    {
      "cell_type": "code",
      "execution_count": 3,
      "metadata": {
        "id": "oG1yervdcmDu"
      },
      "outputs": [],
      "source": [
        "import random\n",
        "class llmtry(runnaable):\n",
        "\n",
        "  def __init__(self):\n",
        "    print(\"llm created \")\n",
        "\n",
        "  def invoke(self, prompt):\n",
        "      response_list = [\n",
        "        \"Delhi is the capital city\",\n",
        "        'IPL is cricket league',\n",
        "        'AI stands for Artificial intelligence'\n",
        "    ]\n",
        "\n",
        "      return {'response': random.choice(response_list)}\n",
        "\n",
        "  def predict(self,prompt):\n",
        "\n",
        "    response_list = [\n",
        "        \"Delhi is the capital city\",\n",
        "        'IPL is cricket league',\n",
        "        'AI stands for Artificial intelligence'\n",
        "    ]\n",
        "\n",
        "    return {'response': random.choice(response_list)}"
      ]
    },
    {
      "cell_type": "code",
      "source": [
        "llm = llmtry()"
      ],
      "metadata": {
        "colab": {
          "base_uri": "https://localhost:8080/"
        },
        "id": "bb4BfgpoeNDH",
        "outputId": "4bbea07d-4d0f-40a0-ec55-60a98f21ae89"
      },
      "execution_count": 4,
      "outputs": [
        {
          "output_type": "stream",
          "name": "stdout",
          "text": [
            "llm created \n"
          ]
        }
      ]
    },
    {
      "cell_type": "code",
      "source": [
        "llm.predict(\" vwl j s\")"
      ],
      "metadata": {
        "colab": {
          "base_uri": "https://localhost:8080/"
        },
        "id": "FUK1dtczeUda",
        "outputId": "6bd63130-1f49-45f9-dac2-bc69d5885b8f"
      },
      "execution_count": 5,
      "outputs": [
        {
          "output_type": "execute_result",
          "data": {
            "text/plain": [
              "{'response': 'IPL is cricket league'}"
            ]
          },
          "metadata": {},
          "execution_count": 5
        }
      ]
    },
    {
      "cell_type": "code",
      "source": [
        "class prompttemplate(runnaable):\n",
        "\n",
        "  def __init__(self,template, input_variables):\n",
        "    self.template = template\n",
        "    self.input_variables = input_variables\n",
        "\n",
        "  def invoke(self, input_dict):\n",
        "    return self.template.format(**input_dict)\n",
        "\n",
        "  def  fromat(self, input_dict):\n",
        "    return self.template.format(**input_dict)"
      ],
      "metadata": {
        "id": "cyFKnjWlearE"
      },
      "execution_count": 6,
      "outputs": []
    },
    {
      "cell_type": "code",
      "source": [
        "class stroutputparsertry(runnaable):\n",
        "  def __init__(self):\n",
        "    pass\n",
        "\n",
        "  def invoke(self, input_data):\n",
        "    return input_data['response']"
      ],
      "metadata": {
        "id": "wuvJwBvLePnz"
      },
      "execution_count": 17,
      "outputs": []
    },
    {
      "cell_type": "code",
      "source": [
        "template = prompttemplate(\n",
        "    template = 'write a {length}  song about {topic}',\n",
        "    input_variables = ['topic']\n",
        ")"
      ],
      "metadata": {
        "id": "xZ9oXo43iAWH"
      },
      "execution_count": 7,
      "outputs": []
    },
    {
      "cell_type": "code",
      "source": [
        "prompt = template.fromat({'length':'short','topic':'india'})"
      ],
      "metadata": {
        "id": "29IUDrNoiqR1"
      },
      "execution_count": 8,
      "outputs": []
    },
    {
      "cell_type": "code",
      "source": [
        "llm1 =  llmtry()"
      ],
      "metadata": {
        "colab": {
          "base_uri": "https://localhost:8080/"
        },
        "id": "-heWyKUakGtU",
        "outputId": "57795598-daa5-48b6-bf0a-9af89b3cf867"
      },
      "execution_count": 9,
      "outputs": [
        {
          "output_type": "stream",
          "name": "stdout",
          "text": [
            "llm created \n"
          ]
        }
      ]
    },
    {
      "cell_type": "code",
      "source": [
        "llm1.predict(prompt)"
      ],
      "metadata": {
        "colab": {
          "base_uri": "https://localhost:8080/"
        },
        "id": "v7u2ZI3GkY1S",
        "outputId": "e93880f0-7f41-43df-99d6-6a20126d18ba"
      },
      "execution_count": 10,
      "outputs": [
        {
          "output_type": "execute_result",
          "data": {
            "text/plain": [
              "{'response': 'IPL is cricket league'}"
            ]
          },
          "metadata": {},
          "execution_count": 10
        }
      ]
    },
    {
      "cell_type": "code",
      "source": [
        "class llmchaintry:\n",
        "\n",
        "  def __init__(self, llm, prompt):\n",
        "    self.llm = llm\n",
        "    self.prompt = prompt\n",
        "\n",
        "  def run(self, input_dict):\n",
        "\n",
        "    final_prompt = self.prompt.fromat(input_dict)\n",
        "    result  = self.llm.predict(final_prompt)\n",
        "\n",
        "    return result['response']"
      ],
      "metadata": {
        "id": "C2OJiYtnkmRy"
      },
      "execution_count": 11,
      "outputs": []
    },
    {
      "cell_type": "code",
      "source": [
        "llm1 =  llmtry()"
      ],
      "metadata": {
        "colab": {
          "base_uri": "https://localhost:8080/"
        },
        "id": "jQtApbhtmj2V",
        "outputId": "4cb755af-dbec-44f5-e80a-83247f201716"
      },
      "execution_count": 12,
      "outputs": [
        {
          "output_type": "stream",
          "name": "stdout",
          "text": [
            "llm created \n"
          ]
        }
      ]
    },
    {
      "cell_type": "code",
      "source": [
        "chain  = llmchaintry(llm, template)"
      ],
      "metadata": {
        "id": "UTqKO2rQmw_v"
      },
      "execution_count": 13,
      "outputs": []
    },
    {
      "cell_type": "code",
      "source": [
        "chain.run({'length':'short','topic': 'india'})"
      ],
      "metadata": {
        "colab": {
          "base_uri": "https://localhost:8080/",
          "height": 36
        },
        "id": "QOF4blETmwef",
        "outputId": "7be38d4e-55b9-4733-e333-ca28de4691d9"
      },
      "execution_count": 14,
      "outputs": [
        {
          "output_type": "execute_result",
          "data": {
            "text/plain": [
              "'IPL is cricket league'"
            ],
            "application/vnd.google.colaboratory.intrinsic+json": {
              "type": "string"
            }
          },
          "metadata": {},
          "execution_count": 14
        }
      ]
    },
    {
      "cell_type": "code",
      "source": [
        "class runnableconnector(runnaable):\n",
        "\n",
        "  def __init__(self, runnable_list):\n",
        "    self.runnable_list = runnable_list\n",
        "\n",
        "  def invoke(self, input_data):\n",
        "\n",
        "    for runnable in self.runnable_list:\n",
        "        input_data = runnable.invoke(input_data)\n",
        "\n",
        "    return input_data"
      ],
      "metadata": {
        "id": "9rcH26qWpWm0"
      },
      "execution_count": 15,
      "outputs": []
    },
    {
      "cell_type": "code",
      "source": [
        "parser = stroutputparsertry()"
      ],
      "metadata": {
        "id": "TYl5xV_HiGeU"
      },
      "execution_count": 18,
      "outputs": []
    },
    {
      "cell_type": "code",
      "source": [
        "chain = runnableconnector([template, llm, parser])\n",
        "chain.invoke({'length':'long','topic': 'india'})"
      ],
      "metadata": {
        "colab": {
          "base_uri": "https://localhost:8080/",
          "height": 36
        },
        "id": "3xOq0i1Cdh1Q",
        "outputId": "eec93d61-4e27-4453-b8e2-c49b75dc5504"
      },
      "execution_count": 19,
      "outputs": [
        {
          "output_type": "execute_result",
          "data": {
            "text/plain": [
              "'AI stands for Artificial intelligence'"
            ],
            "application/vnd.google.colaboratory.intrinsic+json": {
              "type": "string"
            }
          },
          "metadata": {},
          "execution_count": 19
        }
      ]
    },
    {
      "cell_type": "markdown",
      "source": [
        "**after this i can create has much big chain i wan**t\n"
      ],
      "metadata": {
        "id": "TE7b4kSejxsn"
      }
    }
  ]
}